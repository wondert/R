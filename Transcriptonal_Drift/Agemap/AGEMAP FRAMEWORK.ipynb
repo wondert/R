{
 "cells": [
  {
   "cell_type": "markdown",
   "metadata": {},
   "source": [
    "# Get Probe Annotation Function"
   ]
  },
  {
   "cell_type": "code",
   "execution_count": 82,
   "metadata": {
    "collapsed": false
   },
   "outputs": [],
   "source": [
    "def gene_ids(filename):\n",
    "# gene_ids returns a list containing the probe annotation data including \n",
    "# Probe ID (ID) \n",
    "# GeneBank accession number (GB_ACC) \n",
    "# Gene symbol (GENE_SYMBOL) \n",
    "# Unigene Cluster ID (UNIGENE) \n",
    "# Descriptive gene name (GENE_NAME) \n",
    "# Entrez Gene ID (ENTREZ_GENE)\n",
    "    with open(filename) as f: \n",
    "        gene_ids = []\n",
    "        test = False\n",
    "        for line in f:\n",
    "            if line.strip() == '!platform_table_begin':\n",
    "                test = True\n",
    "            elif line.strip() == '!platform_table_end':\n",
    "                return gene_ids\n",
    "            elif test:\n",
    "                gene_ids.append(line.strip())"
   ]
  },
  {
   "cell_type": "markdown",
   "metadata": {},
   "source": [
    "#### Test Case for gene_ids (Thymus, Agemap, GSE7829.txt)"
   ]
  },
  {
   "cell_type": "markdown",
   "metadata": {},
   "source": [
    "Note: GSE7829.txt originally downloaded from GEO as GSE7829_family.soft file."
   ]
  },
  {
   "cell_type": "markdown",
   "metadata": {},
   "source": [
    "Only changed to file was extension to '.txt'."
   ]
  },
  {
   "cell_type": "markdown",
   "metadata": {},
   "source": [
    "Series_matrix_file contains Z-scores of raw values for each array"
   ]
  },
  {
   "cell_type": "code",
   "execution_count": 78,
   "metadata": {
    "collapsed": false
   },
   "outputs": [],
   "source": [
    "test = gene_ids(r'GSE7829.txt')"
   ]
  },
  {
   "cell_type": "code",
   "execution_count": 79,
   "metadata": {
    "collapsed": false
   },
   "outputs": [
    {
     "data": {
      "text/plain": [
       "8449"
      ]
     },
     "execution_count": 79,
     "metadata": {},
     "output_type": "execute_result"
    }
   ],
   "source": [
    "len(test)"
   ]
  },
  {
   "cell_type": "code",
   "execution_count": 80,
   "metadata": {
    "collapsed": false
   },
   "outputs": [
    {
     "data": {
      "text/plain": [
       "['ID\\tGB_ACC\\tGENE_SYMBOL\\tUNIGENE\\tGENE_NAME\\tENTREZ_GENE',\n",
       " '1\\tAA407331\\tNo Value\\tNo Value\\tNo Value\\tNo Value']"
      ]
     },
     "execution_count": 80,
     "metadata": {},
     "output_type": "execute_result"
    }
   ],
   "source": [
    "test[0:2]"
   ]
  },
  {
   "cell_type": "code",
   "execution_count": 84,
   "metadata": {
    "collapsed": false
   },
   "outputs": [
    {
     "data": {
      "text/plain": [
       "'50\\tBG077957\\tPdcd6\\tMm.24254\\tProgrammed cell death 6\\t18570'"
      ]
     },
     "execution_count": 84,
     "metadata": {},
     "output_type": "execute_result"
    }
   ],
   "source": [
    "test[50] # look to see that data contains expected info"
   ]
  },
  {
   "cell_type": "code",
   "execution_count": 86,
   "metadata": {
    "collapsed": false
   },
   "outputs": [
    {
     "data": {
      "text/plain": [
       "'8448\\tBG070587\\tNo Value\\tNo Value\\tNo Value\\tNo Value'"
      ]
     },
     "execution_count": 86,
     "metadata": {},
     "output_type": "execute_result"
    }
   ],
   "source": [
    "test[8448] # expected value BG070587 with No Value for all entries"
   ]
  },
  {
   "cell_type": "markdown",
   "metadata": {},
   "source": [
    "# Get Sample ID Function"
   ]
  },
  {
   "cell_type": "code",
   "execution_count": 87,
   "metadata": {
    "collapsed": true
   },
   "outputs": [],
   "source": [
    "def sample_id(filename):    \n",
    "# sample_ids returns a list containing each sample id present in file    \n",
    "    with open(filename) as f:\n",
    "        sample_id = []\n",
    "        for line in f:\n",
    "            if '^SAMPLE' in line:\n",
    "                sample_id.append(line.rstrip('/n')[9:])\n",
    "        return sample_id"
   ]
  },
  {
   "cell_type": "markdown",
   "metadata": {},
   "source": [
    "#### Test Case for sample_ids (Thymus, Agemap, GSE7829.txt)"
   ]
  },
  {
   "cell_type": "code",
   "execution_count": 89,
   "metadata": {
    "collapsed": true
   },
   "outputs": [],
   "source": [
    "second_test = sample_id(r'GSE7829.txt')"
   ]
  },
  {
   "cell_type": "code",
   "execution_count": 90,
   "metadata": {
    "collapsed": false
   },
   "outputs": [
    {
     "data": {
      "text/plain": [
       "[' GSM189997\\n',\n",
       " ' GSM189998\\n',\n",
       " ' GSM189999\\n',\n",
       " ' GSM190000\\n',\n",
       " ' GSM190001\\n',\n",
       " ' GSM190002\\n',\n",
       " ' GSM190003\\n',\n",
       " ' GSM190004\\n',\n",
       " ' GSM190005\\n',\n",
       " ' GSM190006\\n',\n",
       " ' GSM190007\\n',\n",
       " ' GSM190008\\n',\n",
       " ' GSM190009\\n',\n",
       " ' GSM190010\\n',\n",
       " ' GSM190011\\n',\n",
       " ' GSM190012\\n',\n",
       " ' GSM190013\\n',\n",
       " ' GSM190014\\n',\n",
       " ' GSM190015\\n',\n",
       " ' GSM190016\\n',\n",
       " ' GSM190017\\n',\n",
       " ' GSM190018\\n',\n",
       " ' GSM190019\\n',\n",
       " ' GSM190020\\n',\n",
       " ' GSM190021\\n',\n",
       " ' GSM190022\\n',\n",
       " ' GSM190023\\n',\n",
       " ' GSM190024\\n',\n",
       " ' GSM190025\\n',\n",
       " ' GSM190026\\n',\n",
       " ' GSM190027\\n',\n",
       " ' GSM190028\\n',\n",
       " ' GSM190029\\n',\n",
       " ' GSM190030\\n',\n",
       " ' GSM190031\\n',\n",
       " ' GSM190032\\n',\n",
       " ' GSM190033\\n',\n",
       " ' GSM190034\\n',\n",
       " ' GSM190035\\n',\n",
       " ' GSM190036\\n',\n",
       " ' GSM190037\\n',\n",
       " ' GSM190038\\n',\n",
       " ' GSM190039\\n',\n",
       " ' GSM190040\\n',\n",
       " ' GSM190041\\n',\n",
       " ' GSM190042\\n',\n",
       " ' GSM190043\\n',\n",
       " ' GSM190044\\n',\n",
       " ' GSM190045\\n',\n",
       " ' GSM190046\\n',\n",
       " ' GSM190047\\n',\n",
       " ' GSM190048\\n',\n",
       " ' GSM190049\\n',\n",
       " ' GSM190050\\n',\n",
       " ' GSM190051\\n',\n",
       " ' GSM190052\\n',\n",
       " ' GSM190053\\n',\n",
       " ' GSM190054\\n',\n",
       " ' GSM190055\\n',\n",
       " ' GSM190056\\n',\n",
       " ' GSM190057\\n',\n",
       " ' GSM190058\\n',\n",
       " ' GSM190059\\n',\n",
       " ' GSM190060\\n',\n",
       " ' GSM190061\\n',\n",
       " ' GSM190062\\n',\n",
       " ' GSM190063\\n',\n",
       " ' GSM190064\\n',\n",
       " ' GSM190065\\n',\n",
       " ' GSM190066\\n',\n",
       " ' GSM190067\\n',\n",
       " ' GSM190068\\n',\n",
       " ' GSM190069\\n',\n",
       " ' GSM190070\\n',\n",
       " ' GSM190071\\n',\n",
       " ' GSM190072\\n',\n",
       " ' GSM190073\\n',\n",
       " ' GSM190074\\n',\n",
       " ' GSM190075\\n',\n",
       " ' GSM190076\\n',\n",
       " ' GSM190077\\n',\n",
       " ' GSM190078\\n',\n",
       " ' GSM190079\\n',\n",
       " ' GSM190080\\n',\n",
       " ' GSM190081\\n',\n",
       " ' GSM190082\\n',\n",
       " ' GSM190083\\n',\n",
       " ' GSM190084\\n',\n",
       " ' GSM190085\\n',\n",
       " ' GSM190086\\n',\n",
       " ' GSM190087\\n',\n",
       " ' GSM190088\\n',\n",
       " ' GSM190089\\n',\n",
       " ' GSM190090\\n',\n",
       " ' GSM190091\\n',\n",
       " ' GSM190092\\n',\n",
       " ' GSM190093\\n',\n",
       " ' GSM190094\\n',\n",
       " ' GSM190095\\n',\n",
       " ' GSM190096\\n',\n",
       " ' GSM190097\\n',\n",
       " ' GSM190098\\n',\n",
       " ' GSM190099\\n',\n",
       " ' GSM190100\\n',\n",
       " ' GSM190101\\n',\n",
       " ' GSM190102\\n',\n",
       " ' GSM190103\\n',\n",
       " ' GSM190104\\n',\n",
       " ' GSM190105\\n',\n",
       " ' GSM190106\\n',\n",
       " ' GSM190107\\n',\n",
       " ' GSM190108\\n',\n",
       " ' GSM190109\\n',\n",
       " ' GSM190110\\n',\n",
       " ' GSM190111\\n',\n",
       " ' GSM190112\\n',\n",
       " ' GSM190113\\n',\n",
       " ' GSM190114\\n',\n",
       " ' GSM190115\\n',\n",
       " ' GSM190116\\n',\n",
       " ' GSM190117\\n',\n",
       " ' GSM190118\\n',\n",
       " ' GSM190119\\n',\n",
       " ' GSM190120\\n',\n",
       " ' GSM190121\\n',\n",
       " ' GSM190122\\n',\n",
       " ' GSM190123\\n',\n",
       " ' GSM190124\\n',\n",
       " ' GSM190125\\n',\n",
       " ' GSM190126\\n',\n",
       " ' GSM190127\\n',\n",
       " ' GSM190128\\n',\n",
       " ' GSM190129\\n',\n",
       " ' GSM190130\\n']"
      ]
     },
     "execution_count": 90,
     "metadata": {},
     "output_type": "execute_result"
    }
   ],
   "source": [
    "second_test"
   ]
  },
  {
   "cell_type": "code",
   "execution_count": 92,
   "metadata": {
    "collapsed": false
   },
   "outputs": [
    {
     "data": {
      "text/plain": [
       "134"
      ]
     },
     "execution_count": 92,
     "metadata": {},
     "output_type": "execute_result"
    }
   ],
   "source": [
    "len(second_test) # expected 134 from combined platforms A/B"
   ]
  },
  {
   "cell_type": "markdown",
   "metadata": {},
   "source": [
    "# Get Raw and Z-Transformed Data Function"
   ]
  },
  {
   "cell_type": "code",
   "execution_count": 128,
   "metadata": {
    "collapsed": true
   },
   "outputs": [],
   "source": [
    "def data_extractor(filename):    \n",
    "    dataset = {}\n",
    "    with open(filename) as f:\n",
    "        array_data = []\n",
    "        test = False\n",
    "        for line in f:\n",
    "            if '^SAMPLE' in line:\n",
    "                thekey = line.rstrip('/n')[10:]\n",
    "                if thekey not in dataset:\n",
    "                    dataset[thekey] = []\n",
    "                    continue\n",
    "            if '!sample_table_begin' in line:\n",
    "                test = True\n",
    "                continue\n",
    "            if test:\n",
    "                array_data.append(line)\n",
    "            if '!sample_table_end' in line:\n",
    "                dataset[thekey] = array_data[:-1]\n",
    "                test = False\n",
    "                array_data = []\n",
    "                continue\n",
    "        return dataset"
   ]
  },
  {
   "cell_type": "code",
   "execution_count": 129,
   "metadata": {
    "collapsed": true
   },
   "outputs": [],
   "source": [
    "third_test = data_extractor(r'GSE7829.txt')"
   ]
  },
  {
   "cell_type": "code",
   "execution_count": 130,
   "metadata": {
    "collapsed": false
   },
   "outputs": [
    {
     "data": {
      "text/plain": [
       "dict_keys(['GSM189998\\n', 'GSM190076\\n', 'GSM190003\\n', 'GSM190006\\n', 'GSM190128\\n', 'GSM190067\\n', 'GSM190122\\n', 'GSM190046\\n', 'GSM190055\\n', 'GSM190066\\n', 'GSM190028\\n', 'GSM190120\\n', 'GSM190106\\n', 'GSM190124\\n', 'GSM190025\\n', 'GSM190035\\n', 'GSM190060\\n', 'GSM190084\\n', 'GSM190073\\n', 'GSM190115\\n', 'GSM190098\\n', 'GSM190129\\n', 'GSM190030\\n', 'GSM190105\\n', 'GSM190126\\n', 'GSM190002\\n', 'GSM190114\\n', 'GSM190127\\n', 'GSM190039\\n', 'GSM190096\\n', 'GSM190019\\n', 'GSM190029\\n', 'GSM190101\\n', 'GSM190080\\n', 'GSM190069\\n', 'GSM190023\\n', 'GSM190108\\n', 'GSM190059\\n', 'GSM190123\\n', 'GSM190086\\n', 'GSM190047\\n', 'GSM190087\\n', 'GSM190041\\n', 'GSM190104\\n', 'GSM190112\\n', 'GSM190000\\n', 'GSM190021\\n', 'GSM190063\\n', 'GSM190103\\n', 'GSM190051\\n', 'GSM190043\\n', 'GSM190013\\n', 'GSM190012\\n', 'GSM190075\\n', 'GSM190119\\n', 'GSM190016\\n', 'GSM190050\\n', 'GSM190099\\n', 'GSM190053\\n', 'GSM190007\\n', 'GSM190088\\n', 'GSM190130\\n', 'GSM190083\\n', 'GSM190020\\n', 'GSM190017\\n', 'GSM190040\\n', 'GSM190037\\n', 'GSM190116\\n', 'GSM190010\\n', 'GSM190085\\n', 'GSM190031\\n', 'GSM190071\\n', 'GSM190026\\n', 'GSM190070\\n', 'GSM190109\\n', 'GSM190113\\n', 'GSM190005\\n', 'GSM190015\\n', 'GSM190111\\n', 'GSM190061\\n', 'GSM190004\\n', 'GSM190045\\n', 'GSM190117\\n', 'GSM190042\\n', 'GSM190121\\n', 'GSM190093\\n', 'GSM190009\\n', 'GSM190118\\n', 'GSM190125\\n', 'GSM190100\\n', 'GSM190056\\n', 'GSM190089\\n', 'GSM190094\\n', 'GSM190065\\n', 'GSM190107\\n', 'GSM190011\\n', 'GSM190024\\n', 'GSM190018\\n', 'GSM190081\\n', 'GSM190095\\n', 'GSM189997\\n', 'GSM190057\\n', 'GSM190034\\n', 'GSM190072\\n', 'GSM190049\\n', 'GSM190038\\n', 'GSM190014\\n', 'GSM190001\\n', 'GSM190082\\n', 'GSM190110\\n', 'GSM190078\\n', 'GSM190062\\n', 'GSM190077\\n', 'GSM190008\\n', 'GSM190097\\n', 'GSM190033\\n', 'GSM190054\\n', 'GSM190079\\n', 'GSM190092\\n', 'GSM190027\\n', 'GSM189999\\n', 'GSM190048\\n', 'GSM190068\\n', 'GSM190052\\n', 'GSM190091\\n', 'GSM190058\\n', 'GSM190044\\n', 'GSM190032\\n', 'GSM190036\\n', 'GSM190074\\n', 'GSM190064\\n', 'GSM190102\\n', 'GSM190022\\n', 'GSM190090\\n'])"
      ]
     },
     "execution_count": 130,
     "metadata": {},
     "output_type": "execute_result"
    }
   ],
   "source": [
    "third_test.keys()"
   ]
  },
  {
   "cell_type": "code",
   "execution_count": 131,
   "metadata": {
    "collapsed": false
   },
   "outputs": [
    {
     "data": {
      "text/plain": [
       "134"
      ]
     },
     "execution_count": 131,
     "metadata": {},
     "output_type": "execute_result"
    }
   ],
   "source": [
    "len([key for key in third_test]) # expected 134 unique sample id's from thymus dataset"
   ]
  },
  {
   "cell_type": "code",
   "execution_count": 134,
   "metadata": {
    "collapsed": false
   },
   "outputs": [
    {
     "data": {
      "text/plain": [
       "8449"
      ]
     },
     "execution_count": 134,
     "metadata": {},
     "output_type": "execute_result"
    }
   ],
   "source": [
    "len(third_test['GSM190019\\n'])"
   ]
  },
  {
   "cell_type": "code",
   "execution_count": 135,
   "metadata": {
    "collapsed": true
   },
   "outputs": [],
   "source": [
    "fourth_test = third_test['GSM190019\\n']"
   ]
  },
  {
   "cell_type": "code",
   "execution_count": 136,
   "metadata": {
    "collapsed": false
   },
   "outputs": [
    {
     "data": {
      "text/plain": [
       "'8448\\t1.63\\t5842.98\\n'"
      ]
     },
     "execution_count": 136,
     "metadata": {},
     "output_type": "execute_result"
    }
   ],
   "source": [
    "fourth_test[-1] # expected last element of GSM190019 to be 8448, 1.63, 5842.98"
   ]
  },
  {
   "cell_type": "code",
   "execution_count": 137,
   "metadata": {
    "collapsed": false
   },
   "outputs": [
    {
     "data": {
      "text/plain": [
       "['ID_REF\\tVALUE\\tRAW\\n', '1\\t1.68\\t6190.01\\n']"
      ]
     },
     "execution_count": 137,
     "metadata": {},
     "output_type": "execute_result"
    }
   ],
   "source": [
    "fourth_test[0:2] # expected first elements to be list headers ID_REF, VALUE, RAW"
   ]
  },
  {
   "cell_type": "code",
   "execution_count": 138,
   "metadata": {
    "collapsed": true
   },
   "outputs": [],
   "source": [
    "fifth_test = third_test['GSM190097\\n'] "
   ]
  },
  {
   "cell_type": "code",
   "execution_count": 139,
   "metadata": {
    "collapsed": false
   },
   "outputs": [
    {
     "data": {
      "text/plain": [
       "'16896\\t-0.39\\t241.84\\n'"
      ]
     },
     "execution_count": 139,
     "metadata": {},
     "output_type": "execute_result"
    }
   ],
   "source": [
    "fifth_test[-1] # expected last elements of GSM190097 to be 16896, -0.39, 241.84"
   ]
  },
  {
   "cell_type": "code",
   "execution_count": 140,
   "metadata": {
    "collapsed": true
   },
   "outputs": [],
   "source": [
    "sixth_test = third_test['GSM190130\\n']"
   ]
  },
  {
   "cell_type": "code",
   "execution_count": 141,
   "metadata": {
    "collapsed": false
   },
   "outputs": [
    {
     "data": {
      "text/plain": [
       "'16896\\t-0.20\\t250.57\\n'"
      ]
     },
     "execution_count": 141,
     "metadata": {},
     "output_type": "execute_result"
    }
   ],
   "source": [
    "sixth_test[-1] # expected last elements of GSM190130 to be 16896, -0.20, 250.57"
   ]
  },
  {
   "cell_type": "markdown",
   "metadata": {},
   "source": [
    "#### ALL TESTS PASSED!!!!"
   ]
  },
  {
   "cell_type": "markdown",
   "metadata": {},
   "source": [
    "# FUNCTION TO MERGE DATA SETS AND WRITE TO LARGE TXT FILE"
   ]
  },
  {
   "cell_type": "code",
   "execution_count": null,
   "metadata": {
    "collapsed": true
   },
   "outputs": [],
   "source": []
  }
 ],
 "metadata": {
  "kernelspec": {
   "display_name": "Python 3",
   "language": "python",
   "name": "python3"
  },
  "language_info": {
   "codemirror_mode": {
    "name": "ipython",
    "version": 3
   },
   "file_extension": ".py",
   "mimetype": "text/x-python",
   "name": "python",
   "nbconvert_exporter": "python",
   "pygments_lexer": "ipython3",
   "version": "3.4.3"
  }
 },
 "nbformat": 4,
 "nbformat_minor": 0
}
